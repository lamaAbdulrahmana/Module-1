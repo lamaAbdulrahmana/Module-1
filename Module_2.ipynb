{
  "cells": [
    {
      "cell_type": "code",
      "execution_count": 1,
      "metadata": {
        "id": "jsmYR8DeaNAN"
      },
      "outputs": [],
      "source": [
        "#blank"
      ]
    },
    {
      "cell_type": "markdown",
      "metadata": {
        "id": "CCg9iQOWaVL2"
      },
      "source": [
        "**Odd numbers in a list**"
      ]
    },
    {
      "cell_type": "code",
      "execution_count": 2,
      "metadata": {
        "id": "wzQ_LVOqacnT"
      },
      "outputs": [],
      "source": [
        "def odd_numbers(numbers):\n",
        "  odd_numbers = []\n",
        "  for num in numbers:\n",
        "    if num % 2 != 0:\n",
        "      odd_numbers.append(num)\n",
        "  return odd_numbers"
      ]
    },
    {
      "cell_type": "code",
      "execution_count": 3,
      "metadata": {
        "colab": {
          "base_uri": "https://localhost:8080/"
        },
        "id": "DLFhOTXKb076",
        "outputId": "9dc17101-8c07-4a25-9631-b272e17c4142"
      },
      "outputs": [
        {
          "data": {
            "text/plain": [
              "[1, 3, 5, 7, 9]"
            ]
          },
          "execution_count": 3,
          "metadata": {},
          "output_type": "execute_result"
        }
      ],
      "source": [
        "numbers = [1,2,3,4,5,6,7,8,9,10]\n",
        "odd = odd_numbers(numbers)\n",
        "odd"
      ]
    },
    {
      "attachments": {},
      "cell_type": "markdown",
      "metadata": {},
      "source": [
        "**Odd numbers in a list using lambda**"
      ]
    },
    {
      "cell_type": "code",
      "execution_count": 7,
      "metadata": {},
      "outputs": [],
      "source": [
        "odd_numbers = list(filter(lambda n: n % 2 != 0 , numbers))"
      ]
    },
    {
      "cell_type": "code",
      "execution_count": 8,
      "metadata": {},
      "outputs": [
        {
          "data": {
            "text/plain": [
              "[1, 3, 5, 7, 9]"
            ]
          },
          "execution_count": 8,
          "metadata": {},
          "output_type": "execute_result"
        }
      ],
      "source": [
        "odd_numbers"
      ]
    },
    {
      "cell_type": "markdown",
      "metadata": {
        "id": "oQo7peAKced2"
      },
      "source": [
        "**Even numbers in a list**"
      ]
    },
    {
      "cell_type": "code",
      "execution_count": null,
      "metadata": {
        "id": "V96Q7Ft8ciDr"
      },
      "outputs": [],
      "source": [
        "def even_numbers(numbers):\n",
        "  even_numbers = []\n",
        "  for num in numbers:\n",
        "    if num % 2 == 0:\n",
        "      even_numbers.append(num)\n",
        "  return even_numbers"
      ]
    },
    {
      "cell_type": "code",
      "execution_count": null,
      "metadata": {
        "colab": {
          "base_uri": "https://localhost:8080/"
        },
        "id": "3cNaAa4RcqCt",
        "outputId": "a8377c0f-3fb7-4c14-80e2-7c9335dcc236"
      },
      "outputs": [
        {
          "data": {
            "text/plain": [
              "[2, 4, 6, 8, 10]"
            ]
          },
          "execution_count": 5,
          "metadata": {},
          "output_type": "execute_result"
        }
      ],
      "source": [
        "numbers = [1,2,3,4,5,6,7,8,9,10]\n",
        "even = even_numbers(numbers)\n",
        "even"
      ]
    },
    {
      "attachments": {},
      "cell_type": "markdown",
      "metadata": {},
      "source": [
        "**Even numbers in a list using lambda**"
      ]
    },
    {
      "cell_type": "code",
      "execution_count": 12,
      "metadata": {},
      "outputs": [],
      "source": [
        "even_numbers = list(filter(lambda n: n % 2 == 0, numbers))"
      ]
    },
    {
      "cell_type": "code",
      "execution_count": 13,
      "metadata": {},
      "outputs": [
        {
          "data": {
            "text/plain": [
              "[2, 4, 6, 8, 10]"
            ]
          },
          "execution_count": 13,
          "metadata": {},
          "output_type": "execute_result"
        }
      ],
      "source": [
        "even_numbers"
      ]
    }
  ],
  "metadata": {
    "colab": {
      "provenance": []
    },
    "kernelspec": {
      "display_name": "base",
      "language": "python",
      "name": "python3"
    },
    "language_info": {
      "codemirror_mode": {
        "name": "ipython",
        "version": 3
      },
      "file_extension": ".py",
      "mimetype": "text/x-python",
      "name": "python",
      "nbconvert_exporter": "python",
      "pygments_lexer": "ipython3",
      "version": "3.9.13"
    },
    "vscode": {
      "interpreter": {
        "hash": "2af95526483980d5c0d32e69cfdef7fb59df03ab74b43ac7da13aa2ecc7f8f71"
      }
    }
  },
  "nbformat": 4,
  "nbformat_minor": 0
}
