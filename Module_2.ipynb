{
  "cells": [
    {
      "cell_type": "code",
      "execution_count": null,
      "metadata": {
        "id": "jsmYR8DeaNAN"
      },
      "outputs": [],
      "source": [
        "#blank"
      ]
    },
    {
      "cell_type": "markdown",
      "metadata": {
        "id": "CCg9iQOWaVL2"
      },
      "source": [
        "**Odd numbers in a list**"
      ]
    },
    {
      "cell_type": "code",
      "execution_count": null,
      "metadata": {
        "id": "wzQ_LVOqacnT"
      },
      "outputs": [],
      "source": [
        "def odd_numbers(numbers):\n",
        "  odd_numbers = []\n",
        "  for num in numbers:\n",
        "    if num % 2 != 0:\n",
        "      odd_numbers.append(num)\n",
        "  return odd_numbers"
      ]
    },
    {
      "cell_type": "code",
      "execution_count": null,
      "metadata": {
        "colab": {
          "base_uri": "https://localhost:8080/"
        },
        "id": "DLFhOTXKb076",
        "outputId": "9dc17101-8c07-4a25-9631-b272e17c4142"
      },
      "outputs": [
        {
          "data": {
            "text/plain": [
              "[1, 3, 5, 7, 9]"
            ]
          },
          "execution_count": 3,
          "metadata": {},
          "output_type": "execute_result"
        }
      ],
      "source": [
        "numbers = [1,2,3,4,5,6,7,8,9,10]\n",
        "odd = odd_numbers(numbers)\n",
        "odd"
      ]
    },
    {
      "cell_type": "markdown",
      "metadata": {
        "id": "oQo7peAKced2"
      },
      "source": [
        "**Even numbers in a list**"
      ]
    },
    {
      "cell_type": "code",
      "execution_count": null,
      "metadata": {
        "id": "V96Q7Ft8ciDr"
      },
      "outputs": [],
      "source": [
        "def even_numbers(numbers):\n",
        "  even_numbers = []\n",
        "  for num in numbers:\n",
        "    if num % 2 == 0:\n",
        "      even_numbers.append(num)\n",
        "  return even_numbers"
      ]
    },
    {
      "cell_type": "code",
      "execution_count": null,
      "metadata": {
        "colab": {
          "base_uri": "https://localhost:8080/"
        },
        "id": "3cNaAa4RcqCt",
        "outputId": "a8377c0f-3fb7-4c14-80e2-7c9335dcc236"
      },
      "outputs": [
        {
          "data": {
            "text/plain": [
              "[2, 4, 6, 8, 10]"
            ]
          },
          "execution_count": 5,
          "metadata": {},
          "output_type": "execute_result"
        }
      ],
      "source": [
        "numbers = [1,2,3,4,5,6,7,8,9,10]\n",
        "even = even_numbers(numbers)\n",
        "even"
      ]
    }
  ],
  "metadata": {
    "colab": {
      "provenance": []
    },
    "kernelspec": {
      "display_name": "Python 3",
      "name": "python3"
    },
    "language_info": {
      "name": "python"
    }
  },
  "nbformat": 4,
  "nbformat_minor": 0
}
